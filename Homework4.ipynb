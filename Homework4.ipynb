{
 "cells": [
  {
   "cell_type": "markdown",
   "metadata": {},
   "source": [
    "Write a function, a password generator, that would accept an int-type variable and return such a long password from lowercase, uppercase, numbers, and characters."
   ]
  },
  {
   "cell_type": "code",
   "execution_count": 20,
   "metadata": {},
   "outputs": [
    {
     "name": "stdout",
     "output_type": "stream",
     "text": [
      "Qu>]jIEJ#(d1(%n\n"
     ]
    }
   ],
   "source": [
    "import random\n",
    "import string\n",
    "\n",
    "def password_generator(length):\n",
    "    characters = string.ascii_letters + string.digits + string.punctuation\n",
    "    result_str = ''.join(random.choice(characters) for i in range(length))\n",
    "    return result_str\n",
    "\n",
    "print(password_generator(15))"
   ]
  },
  {
   "cell_type": "markdown",
   "metadata": {},
   "source": [
    "Write a function that accepts a list and an integer k. The function returns the maximum sum of k neighboring members."
   ]
  },
  {
   "cell_type": "code",
   "execution_count": 32,
   "metadata": {},
   "outputs": [
    {
     "name": "stdout",
     "output_type": "stream",
     "text": [
      "16\n",
      "26\n",
      "31\n",
      "1002\n"
     ]
    }
   ],
   "source": [
    "def sum(sub):\n",
    "    res = 0\n",
    "    for ele in sub:\n",
    "        res = ele + res\n",
    "    return res\n",
    "\n",
    "def integer_list1(list1,k):\n",
    "    res = []\n",
    "    for idx in range(len(list1) - k + 1):\n",
    "        res.append(sum(list1[idx: idx + k]))\n",
    "    return max(res)\n",
    "\n",
    "print(integer_list1([2,3,4,5,10,16,1,1],1))\n",
    "print(integer_list1([2,3,4,5,10,16,1,1],2))\n",
    "print(integer_list1([2,3,4,5,10,16,1,1],3))\n",
    "print(integer_list1([2,3,4,5,10,16,1,1,1000],3))"
   ]
  },
  {
   "cell_type": "markdown",
   "metadata": {},
   "source": [
    "Write a function that accepts a list and an integer k. The function returns a list of number pairs whose difference is equal to the entered number k. If no such pairs are present, return False."
   ]
  },
  {
   "cell_type": "code",
   "execution_count": 9,
   "metadata": {},
   "outputs": [
    {
     "name": "stdout",
     "output_type": "stream",
     "text": [
      "[(0, 4), (4, 8)]\n",
      "[(0, 2), (2, 4)]\n",
      "[(-2, 8)]\n",
      "False\n"
     ]
    }
   ],
   "source": [
    "def integer_list2(list2, k):\n",
    "    result = []\n",
    "    for a in range(0,len(list2)):\n",
    "        for b in range(a+1,len(list2)):\n",
    "            if list2[a] - list2[b] == k or list2[b] - list2[a] == k:\n",
    "                result.append((list2[a], list2[b]))\n",
    "    return result if result else False\n",
    "\n",
    "print(integer_list2([0,2,4,8],4))\n",
    "print(integer_list2([0,2,4,8],2))\n",
    "print(integer_list2([-2,0,2,4,8],10))\n",
    "print(integer_list2([-2,0,2,4,8],11))"
   ]
  }
 ],
 "metadata": {
  "kernelspec": {
   "display_name": "Python 3",
   "language": "python",
   "name": "python3"
  },
  "language_info": {
   "codemirror_mode": {
    "name": "ipython",
    "version": 3
   },
   "file_extension": ".py",
   "mimetype": "text/x-python",
   "name": "python",
   "nbconvert_exporter": "python",
   "pygments_lexer": "ipython3",
   "version": "3.8.13"
  },
  "orig_nbformat": 4,
  "vscode": {
   "interpreter": {
    "hash": "9ac03a0a6051494cc606d484d27d20fce22fb7b4d169f583271e11d5ba46a56e"
   }
  }
 },
 "nbformat": 4,
 "nbformat_minor": 2
}
