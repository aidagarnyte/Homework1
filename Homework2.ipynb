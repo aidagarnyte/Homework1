{
 "cells": [
  {
   "cell_type": "code",
   "execution_count": 19,
   "metadata": {},
   "outputs": [
    {
     "name": "stdout",
     "output_type": "stream",
     "text": [
      "3 6 9 12 15 18 "
     ]
    }
   ],
   "source": [
    "for n in range(1, 21):\n",
    "    if(n%3==0):\n",
    "        print(n, end=' ')"
   ]
  },
  {
   "cell_type": "code",
   "execution_count": 56,
   "metadata": {},
   "outputs": [
    {
     "name": "stdout",
     "output_type": "stream",
     "text": [
      "650\n"
     ]
    }
   ],
   "source": [
    "sum=0\n",
    "\n",
    "for f in range(1, 51):\n",
    "    if((sum+f)%2==0):\n",
    "        sum+=f\n",
    "\n",
    "print(sum)"
   ]
  },
  {
   "cell_type": "code",
   "execution_count": 51,
   "metadata": {},
   "outputs": [
    {
     "name": "stdout",
     "output_type": "stream",
     "text": [
      "['Monday 12', 'Monday 13', 'Monday 14', 'Monday 15', 'Monday 16', 'Monday 17', 'Wednesday 12', 'Wednesday 13', 'Wednesday 14', 'Wednesday 15', 'Wednesday 16', 'Wednesday 17']\n"
     ]
    }
   ],
   "source": [
    "days = ('Monday', 'Tuesday', 'Wednesday', 'Thursday', 'Friday', 'Saturday' , 'Sunday')\n",
    "hours = [10, 11, 12, 13, 14, 15, 16, 17, 18, 19]\n",
    "\n",
    "combination=[]\n",
    "\n",
    "for day in days:\n",
    "    if(day=='Monday' or day=='Wednesday'):\n",
    "        for hour in hours:\n",
    "            if(hour in range(12,18)):\n",
    "                combination.append(f'{day} {hour}')\n",
    "\n",
    "print(combination)"
   ]
  },
  {
   "cell_type": "code",
   "execution_count": 29,
   "metadata": {},
   "outputs": [
    {
     "name": "stdout",
     "output_type": "stream",
     "text": [
      "1 - ''\n",
      "2 - 'Fizz'\n",
      "3 - 'Buzz'\n",
      "4 - 'Fizz'\n",
      "5 - ''\n",
      "6 - 'FizzBuzz'\n",
      "7 - ''\n",
      "8 - 'Fizz'\n",
      "9 - 'Buzz'\n",
      "10 - 'Fizz'\n",
      "11 - ''\n",
      "12 - 'FizzBuzz'\n",
      "13 - ''\n",
      "14 - 'Fizz'\n",
      "15 - 'Buzz'\n",
      "16 - 'Fizz'\n",
      "17 - ''\n",
      "18 - 'FizzBuzz'\n",
      "19 - ''\n",
      "20 - 'Fizz'\n",
      "21 - 'Buzz'\n",
      "22 - 'Fizz'\n",
      "23 - ''\n",
      "24 - 'FizzBuzz'\n",
      "25 - ''\n",
      "26 - 'Fizz'\n",
      "27 - 'Buzz'\n",
      "28 - 'Fizz'\n",
      "29 - ''\n",
      "30 - 'FizzBuzz'\n",
      "31 - ''\n",
      "32 - 'Fizz'\n",
      "33 - 'Buzz'\n",
      "34 - 'Fizz'\n",
      "35 - ''\n",
      "36 - 'FizzBuzz'\n",
      "37 - ''\n",
      "38 - 'Fizz'\n",
      "39 - 'Buzz'\n",
      "40 - 'Fizz'\n",
      "41 - ''\n",
      "42 - 'FizzBuzz'\n",
      "43 - ''\n",
      "44 - 'Fizz'\n",
      "45 - 'Buzz'\n",
      "46 - 'Fizz'\n",
      "47 - ''\n",
      "48 - 'FizzBuzz'\n",
      "49 - ''\n",
      "50 - 'Fizz'\n",
      "51 - 'Buzz'\n",
      "52 - 'Fizz'\n",
      "53 - ''\n",
      "54 - 'FizzBuzz'\n",
      "55 - ''\n",
      "56 - 'Fizz'\n",
      "57 - 'Buzz'\n",
      "58 - 'Fizz'\n",
      "59 - ''\n",
      "60 - 'FizzBuzz'\n",
      "61 - ''\n",
      "62 - 'Fizz'\n",
      "63 - 'Buzz'\n",
      "64 - 'Fizz'\n",
      "65 - ''\n",
      "66 - 'FizzBuzz'\n",
      "67 - ''\n",
      "68 - 'Fizz'\n",
      "69 - 'Buzz'\n",
      "70 - 'Fizz'\n",
      "71 - ''\n",
      "72 - 'FizzBuzz'\n",
      "73 - ''\n",
      "74 - 'Fizz'\n",
      "75 - 'Buzz'\n",
      "76 - 'Fizz'\n",
      "77 - ''\n",
      "78 - 'FizzBuzz'\n",
      "79 - ''\n",
      "80 - 'Fizz'\n",
      "81 - 'Buzz'\n",
      "82 - 'Fizz'\n",
      "83 - ''\n",
      "84 - 'FizzBuzz'\n",
      "85 - ''\n",
      "86 - 'Fizz'\n",
      "87 - 'Buzz'\n",
      "88 - 'Fizz'\n",
      "89 - ''\n",
      "90 - 'FizzBuzz'\n",
      "91 - ''\n",
      "92 - 'Fizz'\n",
      "93 - 'Buzz'\n",
      "94 - 'Fizz'\n",
      "95 - ''\n",
      "96 - 'FizzBuzz'\n",
      "97 - ''\n",
      "98 - 'Fizz'\n",
      "99 - 'Buzz'\n",
      "100 - 'Fizz'\n"
     ]
    }
   ],
   "source": [
    "for e in range(1, 101):\n",
    "    if(e%3==0 and e%2==0):\n",
    "        print(\"{} - 'FizzBuzz'\".format(e))\n",
    "    elif(e%2==0):\n",
    "        print(\"{} - 'Fizz'\".format(e))\n",
    "    elif(e%3==0):\n",
    "        print(\"{} - 'Buzz'\".format(e))\n",
    "    else:\n",
    "        print(\"{} - ''\".format(e))\n"
   ]
  },
  {
   "cell_type": "code",
   "execution_count": 57,
   "metadata": {},
   "outputs": [
    {
     "name": "stdout",
     "output_type": "stream",
     "text": [
      "14\n",
      "[10, 40, '200', '100', '10 degrees outside', 'weather', 'what a beautiful day', 'evening', 'hi', '5', '4', '3', '2', '1']\n"
     ]
    }
   ],
   "source": [
    "a = ['1','2','3','4','5']\n",
    "b = ['hi', 'evening', 'what a beautiful day', 'weather', '10 degrees outside']\n",
    "c = ['100', '200', 40, 10]\n",
    "d=a+b+c\n",
    "print(len(d))\n",
    "d.reverse()\n",
    "print(d)"
   ]
  }
 ],
 "metadata": {
  "kernelspec": {
   "display_name": "Python 3",
   "language": "python",
   "name": "python3"
  },
  "language_info": {
   "codemirror_mode": {
    "name": "ipython",
    "version": 3
   },
   "file_extension": ".py",
   "mimetype": "text/x-python",
   "name": "python",
   "nbconvert_exporter": "python",
   "pygments_lexer": "ipython3",
   "version": "3.8.13"
  },
  "orig_nbformat": 4,
  "vscode": {
   "interpreter": {
    "hash": "9ac03a0a6051494cc606d484d27d20fce22fb7b4d169f583271e11d5ba46a56e"
   }
  }
 },
 "nbformat": 4,
 "nbformat_minor": 2
}
