{
 "cells": [
  {
   "cell_type": "markdown",
   "metadata": {},
   "source": [
    "Create a class that has at least 2 arguments to the __init__ method and at least 3 additional methods."
   ]
  },
  {
   "cell_type": "code",
   "execution_count": 30,
   "metadata": {},
   "outputs": [
    {
     "name": "stdout",
     "output_type": "stream",
     "text": [
      "Marija\n",
      "1993\n",
      "Marija (29)\n",
      "False\n"
     ]
    }
   ],
   "source": [
    "from datetime import date\n",
    "\n",
    "class Person:\n",
    "    def __init__(self, name, birth_year):\n",
    "        self.name = name\n",
    "        self.birth_year = birth_year\n",
    "\n",
    "    def calculate_age(self):\n",
    "        return date.today().year - self.birth_year\n",
    "\n",
    "    def __str__(self):\n",
    "        return f\"{self.name} ({self.calculate_age()})\"\n",
    "\n",
    "    def is_underage(self):\n",
    "        return self.calculate_age() <= 18\n",
    "\n",
    "p1 = Person(\"Marija\", 1993)\n",
    "age = p1.calculate_age()\n",
    "underage = p1.is_underage()\n",
    "\n",
    "print(p1.name)\n",
    "print(p1.birth_year)\n",
    "print(p1)\n",
    "print(underage)"
   ]
  }
 ],
 "metadata": {
  "kernelspec": {
   "display_name": "Python 3",
   "language": "python",
   "name": "python3"
  },
  "language_info": {
   "codemirror_mode": {
    "name": "ipython",
    "version": 3
   },
   "file_extension": ".py",
   "mimetype": "text/x-python",
   "name": "python",
   "nbconvert_exporter": "python",
   "pygments_lexer": "ipython3",
   "version": "3.8.13"
  },
  "orig_nbformat": 4,
  "vscode": {
   "interpreter": {
    "hash": "9ac03a0a6051494cc606d484d27d20fce22fb7b4d169f583271e11d5ba46a56e"
   }
  }
 },
 "nbformat": 4,
 "nbformat_minor": 2
}
