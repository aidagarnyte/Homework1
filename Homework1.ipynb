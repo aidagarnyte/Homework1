{
 "cells": [
  {
   "cell_type": "code",
   "execution_count": 13,
   "metadata": {},
   "outputs": [
    {
     "name": "stdout",
     "output_type": "stream",
     "text": [
      "11\n",
      "1\n",
      "30\n",
      "1\n",
      "1.2\n"
     ]
    }
   ],
   "source": [
    "a=5\n",
    "b=6\n",
    "print(a+b)\n",
    "print(b-a)\n",
    "print(a*b)\n",
    "print(b%a)\n",
    "print(b/a)"
   ]
  },
  {
   "cell_type": "code",
   "execution_count": 14,
   "metadata": {},
   "outputs": [
    {
     "name": "stdout",
     "output_type": "stream",
     "text": [
      "6.8\n",
      "4.3999999999999995\n",
      "6.72\n",
      "0.7999999999999998\n",
      "4.666666666666667\n"
     ]
    }
   ],
   "source": [
    "h=1.2\n",
    "i=5.6\n",
    "print(h+i)\n",
    "print(i-h)\n",
    "print(h*i)\n",
    "print(i%h)\n",
    "print(i/h)"
   ]
  },
  {
   "cell_type": "code",
   "execution_count": 31,
   "metadata": {},
   "outputs": [
    {
     "name": "stdout",
     "output_type": "stream",
     "text": [
      "390.625\n",
      "2560.0\n",
      "0.2922374429223744\n",
      "3.5068445111719027\n",
      "106.66666666666667\n",
      "9216000.0\n"
     ]
    },
    {
     "data": {
      "text/plain": [
       "109"
      ]
     },
     "execution_count": 31,
     "metadata": {},
     "output_type": "execute_result"
    }
   ],
   "source": [
    "moon=384000\n",
    "sun=150000000\n",
    "difference=sun/moon\n",
    "print(difference)\n",
    "\n",
    "speed=150\n",
    "hours=moon/speed\n",
    "print(hours)\n",
    "years=hours/8760\n",
    "print(years)\n",
    "months=hours/730.001\n",
    "print(months)\n",
    "days=hours/24\n",
    "print(days)\n",
    "seconds=hours*3600\n",
    "print(seconds)\n",
    "\n",
    "from datetime import datetime \n",
    "todaysdate= datetime.today()\n",
    "mytrip= datetime(2023,2,19)\n",
    "(mytrip - todaysdate).days"
   ]
  },
  {
   "cell_type": "code",
   "execution_count": 42,
   "metadata": {},
   "outputs": [
    {
     "name": "stdout",
     "output_type": "stream",
     "text": [
      "True\n",
      "True\n",
      "True\n",
      "True\n",
      "True\n"
     ]
    }
   ],
   "source": [
    "bool_1=True\n",
    "print(bool_1)\n",
    "number=24\n",
    "print(bool(number))\n",
    "text='hi'\n",
    "print(bool(text))\n",
    "print(3>0)\n",
    "print(20==20)"
   ]
  },
  {
   "cell_type": "code",
   "execution_count": 43,
   "metadata": {},
   "outputs": [
    {
     "name": "stdout",
     "output_type": "stream",
     "text": [
      "False\n",
      "False\n",
      "False\n",
      "False\n",
      "False\n"
     ]
    }
   ],
   "source": [
    "bool_2=False\n",
    "print(bool_2)\n",
    "number_1=0\n",
    "print(bool(number_1))\n",
    "text_1=''\n",
    "print(bool(text_1))\n",
    "print(3<0)\n",
    "print(20==10)"
   ]
  }
 ],
 "metadata": {
  "kernelspec": {
   "display_name": "Python 3",
   "language": "python",
   "name": "python3"
  },
  "language_info": {
   "codemirror_mode": {
    "name": "ipython",
    "version": 3
   },
   "file_extension": ".py",
   "mimetype": "text/x-python",
   "name": "python",
   "nbconvert_exporter": "python",
   "pygments_lexer": "ipython3",
   "version": "3.8.13"
  },
  "orig_nbformat": 4,
  "vscode": {
   "interpreter": {
    "hash": "9ac03a0a6051494cc606d484d27d20fce22fb7b4d169f583271e11d5ba46a56e"
   }
  }
 },
 "nbformat": 4,
 "nbformat_minor": 2
}
