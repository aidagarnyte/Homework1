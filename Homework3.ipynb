{
 "cells": [
  {
   "cell_type": "code",
   "execution_count": 6,
   "metadata": {},
   "outputs": [
    {
     "name": "stdout",
     "output_type": "stream",
     "text": [
      "{'cherry', ('new_value', 5), 'banana', 'apple'}\n"
     ]
    }
   ],
   "source": [
    "fruits = {\"apple\", \"banana\", \"cherry\"}\n",
    "fruits.add((\"new_value\", 5))\n",
    "print(fruits)"
   ]
  },
  {
   "cell_type": "code",
   "execution_count": 16,
   "metadata": {},
   "outputs": [
    {
     "name": "stdout",
     "output_type": "stream",
     "text": [
      "{'cherry', 'watermelon', 'banana'}\n"
     ]
    }
   ],
   "source": [
    "fruits = {\"apple\", \"banana\", \"cherry\"}\n",
    "fruits.update([\"watermelon\"])\n",
    "fruits.remove(\"apple\")\n",
    "print(fruits)"
   ]
  },
  {
   "cell_type": "code",
   "execution_count": 24,
   "metadata": {},
   "outputs": [
    {
     "name": "stdout",
     "output_type": "stream",
     "text": [
      "{'cherry', 'watermelon', 'banana', 'apple'}\n",
      "{'watermelon', 'Jeachee', 'apple', 'Bluqumato', 'Ijeadnut', 'cherry', 'Rearry', 'Phokeorra', 'banana'}\n",
      "{'watermelon', 'Jeachee', 'Bluqumato', 'Ijeadnut', 'cherry', 'Rearry', 'Phokeorra', 'banana'}\n",
      "8\n",
      "{'watermelon', 'Jeachee', 'avocado', 'Bluqumato', 'Ijeadnut', 'cherry', 'Rearry', 'Phokeorra', 'banana'}\n",
      "9\n"
     ]
    }
   ],
   "source": [
    "fruits = {\"apple\", \"banana\", \"cherry\"}\n",
    "fruits.add(\"watermelon\")\n",
    "print(fruits)\n",
    "fruits.update([\"Rearry\", \"Ijeadnut\", \"Bluqumato\", \"Phokeorra\", \"Jeachee\"])\n",
    "print(fruits)\n",
    "fruits.remove(\"apple\")\n",
    "print(fruits)\n",
    "print(len(fruits))\n",
    "fruits.add(\"avocado\")\n",
    "print(fruits)\n",
    "print(len(fruits))"
   ]
  },
  {
   "cell_type": "code",
   "execution_count": 54,
   "metadata": {},
   "outputs": [
    {
     "name": "stdout",
     "output_type": "stream",
     "text": [
      "How many words are longer than 10 characters: 1.\n",
      "The shortest word in the list is: bob.\n",
      "The longest word in the list is: consideration.\n",
      "Palindromes in a list: madam bob\n"
     ]
    }
   ],
   "source": [
    "random_words=[\"acid\", \"confuse\", \"madam\", \"elegant\", \"bob\", \"cold\", \"consideration\", \"indirect\", \"confine\", \"censorship\"]\n",
    "\n",
    "y = []\n",
    "for i in random_words:\n",
    "    if len(i) > 10:\n",
    "        y.append(i)\n",
    "print(\"How many words are longer than 10 characters: %s.\" % (len(y)))\n",
    "\n",
    "sortedwords = sorted(random_words, key=len)\n",
    "print (\"The shortest word in the list is: %s.\" % (sortedwords[0],))\n",
    "print (\"The longest word in the list is: %s.\" % (sortedwords[-1],))\n",
    "\n",
    "\n",
    "def isPalindrome(s):\n",
    "    return s == s[::-1]\n",
    "\n",
    "palindromes = []\n",
    "\n",
    "for s in random_words:\n",
    "    if isPalindrome(s):\n",
    "        palindromes.append(s)\n",
    "if not palindromes:\n",
    "    print(\"There are no palindromes in a list.\")\n",
    "else:\n",
    "    print(\"Palindromes in a list:\", *palindromes)"
   ]
  },
  {
   "cell_type": "code",
   "execution_count": 3,
   "metadata": {},
   "outputs": [
    {
     "name": "stdout",
     "output_type": "stream",
     "text": [
      "21\n"
     ]
    }
   ],
   "source": [
    "def prod(sub):\n",
    "    res = 1\n",
    "    for ele in sub:\n",
    "        res = ele * res\n",
    "    return res\n",
    "\n",
    "my_list = [3, 6, -2, -5, 7, 3]\n",
    "\n",
    "K = 2\n",
    "  \n",
    "res = []\n",
    "for idx in range(len(my_list) - K + 1):\n",
    "    res.append(prod(my_list[idx: idx + K]))\n",
    "\n",
    "print(max(res))"
   ]
  },
  {
   "cell_type": "code",
   "execution_count": 42,
   "metadata": {},
   "outputs": [
    {
     "name": "stdout",
     "output_type": "stream",
     "text": [
      "{8, 9, 3, 15}\n"
     ]
    }
   ],
   "source": [
    "a = [1,2,3,4,5,6,7,8,9,15]\n",
    "b = [3,8,9,11,15]\n",
    "print(set(a).intersection(b))"
   ]
  },
  {
   "cell_type": "code",
   "execution_count": 53,
   "metadata": {},
   "outputs": [
    {
     "name": "stdout",
     "output_type": "stream",
     "text": [
      "{800, 1, 2, 900, 5, 8, 10, 12, 14}\n"
     ]
    }
   ],
   "source": [
    "x = [1, 5, 1, 2, 8, -9, 10, 1, -8, -900, 14, 5, -8, 2, 1, -20, 900, 800, -6, -8, 12, 1]\n",
    "\n",
    "z = set()\n",
    "\n",
    "for num in x:\n",
    "    if num > 0:\n",
    "        z.add(num)\n",
    "\n",
    "print(z)"
   ]
  }
 ],
 "metadata": {
  "kernelspec": {
   "display_name": "Python 3",
   "language": "python",
   "name": "python3"
  },
  "language_info": {
   "codemirror_mode": {
    "name": "ipython",
    "version": 3
   },
   "file_extension": ".py",
   "mimetype": "text/x-python",
   "name": "python",
   "nbconvert_exporter": "python",
   "pygments_lexer": "ipython3",
   "version": "3.8.13"
  },
  "orig_nbformat": 4,
  "vscode": {
   "interpreter": {
    "hash": "9ac03a0a6051494cc606d484d27d20fce22fb7b4d169f583271e11d5ba46a56e"
   }
  }
 },
 "nbformat": 4,
 "nbformat_minor": 2
}
